{
 "cells": [
  {
   "attachments": {},
   "cell_type": "markdown",
   "metadata": {},
   "source": [
    "# Jeff Pinegar\n",
    "Project 2: ETL \n",
    "Due Dec. 23, 2022\n",
    "\n",
    "### Extract and Transform MUDData Sales Data\n",
    "---"
   ]
  },
  {
   "cell_type": "code",
   "execution_count": null,
   "metadata": {},
   "outputs": [],
   "source": [
    "# Import needed libraries\n",
    "import pandas as pd     # if you get an error message module not found you need to add this to your environment.\n",
    "import os               # this tells your project about the OS of your machine.  This will let you create machine independent notebooks\n",
    "import numpy as np      # loads in the math tools\n",
    "from datetime import datetime"
   ]
  },
  {
   "attachments": {},
   "cell_type": "markdown",
   "metadata": {},
   "source": [
    "---\n",
    "### Extract"
   ]
  },
  {
   "cell_type": "code",
   "execution_count": null,
   "metadata": {},
   "outputs": [],
   "source": [
    "# Import data file\n",
    "# My Jupyter notebook is in the current directory \" . \"\n",
    "# There is a sub directory \"Resources\" and the file \"IPC shipped from Germany by serial number 2022 (until 5.12.2022).csv\" is located there.\n",
    "sales_data = os.path.join('.','Resources', '133156280355595299.csv')            \n",
    "\n",
    "# Opens the CVS file and read it in as a panda dataframe then print the head.\n",
    "dfm_raw = pd.read_csv(sales_data, encoding=\"utf-8\")                    \n",
    "dfm_raw.head(2)"
   ]
  },
  {
   "attachments": {},
   "cell_type": "markdown",
   "metadata": {},
   "source": [
    "---\n",
    "### Transform"
   ]
  },
  {
   "cell_type": "code",
   "execution_count": null,
   "metadata": {},
   "outputs": [],
   "source": [
    "# Confirm the import worked as expected.\n",
    "dfm_raw.shape"
   ]
  },
  {
   "cell_type": "code",
   "execution_count": null,
   "metadata": {},
   "outputs": [],
   "source": [
    "# Create a working df\n",
    "dfm = dfm_raw"
   ]
  },
  {
   "cell_type": "code",
   "execution_count": null,
   "metadata": {},
   "outputs": [],
   "source": [
    "# reduce the data frame to the needed columns and update the column names\n",
    "dfm = dfm[[ 'SN' , 'date' , 'orderkey' , 'CMAT' , 'CMAT_Disp' \n",
    "            , 'CMAT_Mount' , 'CMAT_CPU' , 'CMAT_OS' , 'CMAT_SW' \n",
    "            , 'CMAT_RAM' , 'CMAT_NVRAM' , 'CMAT_Storage1' , 'CMAT_Storage2' \n",
    "            , 'CMAT_RAID' , 'CMAT_DVD' , 'CMAT_PCI' , 'CMAT_PCIslot1' \n",
    "            , 'CMAT_PCIslot2' , 'CMAT_ExtFun' , 'CMAT_miniPCI' , 'CMAT_PS']]\n",
    "\n",
    "# Rename the columns to be more helpful\n",
    "dfm = dfm.rename(columns={ 'SN' : 'IPC_Serial_No'  ,  'date' : 'Mfg_Date'  ,  'orderkey' : 'Order_Key'  \n",
    "                        ,  'CMAT' : 'Platform'  ,  'CMAT_Disp' : 'Display'  ,  'CMAT_Mount' : 'Mounting'  \n",
    "                        ,  'CMAT_CPU' : 'CPU'  ,  'CMAT_OS' : 'OS'  ,  'CMAT_SW' : 'SW'  ,  'CMAT_RAM' : 'RAM'  \n",
    "                        ,  'CMAT_NVRAM' : 'NVRAM'  ,  'CMAT_Storage1' : 'Mass_Store_1'  \n",
    "                        ,  'CMAT_Storage2' : 'Mass_Store_2'  ,  'CMAT_RAID' : 'RAID'  ,  'CMAT_DVD' : 'DVD'  \n",
    "                        ,  'CMAT_PCI' : 'PCI'  ,  'CMAT_PCIslot1' : 'PCI_Slot_1'  ,  'CMAT_PCIslot2' : 'PCI_Slot_2'  \n",
    "                        ,  'CMAT_ExtFun' : 'Ext_Func'  ,  'CMAT_miniPCI' : 'MiniPCI'  ,  'CMAT_PS' : 'PS' })"
   ]
  },
  {
   "cell_type": "code",
   "execution_count": null,
   "metadata": {},
   "outputs": [],
   "source": [
    "# Remove any duplicate orders\n",
    "dfm = dfm.drop_duplicates(keep='first')\n",
    "\n",
    "dfm.head(2)"
   ]
  },
  {
   "attachments": {},
   "cell_type": "markdown",
   "metadata": {},
   "source": [
    "#### Convert Data types"
   ]
  },
  {
   "cell_type": "code",
   "execution_count": null,
   "metadata": {},
   "outputs": [],
   "source": [
    "# Convert mfg date to datetime\n",
    "\n",
    "# Define a funtion to change the format\n",
    "def convertdate(date_in_dmyyyy_format):\n",
    "    date_as_string= str(date_in_dmyyyy_format)\n",
    "    newformat = datetime.strptime(date_as_string, \"%m/%d/%Y %H:%M\").strftime(\"%Y-%m-%d\")\n",
    "    return str(newformat)\n",
    "\n",
    "#reformat the sell_date string to yyyy-mm-dd.\n",
    "dfm['Mfg_Date']=dfm['Mfg_Date'].apply(convertdate) \n",
    "\n",
    "# Convert the date string to type datetime\n",
    "dfm['Mfg_Date']=pd.to_datetime(dfm['Mfg_Date'])\n"
   ]
  },
  {
   "cell_type": "code",
   "execution_count": null,
   "metadata": {},
   "outputs": [],
   "source": [
    "# Remove items mfg before 1/1/2021\n",
    "dfm = dfm.loc[dfm['Mfg_Date']>='2021-01-01']"
   ]
  },
  {
   "cell_type": "code",
   "execution_count": null,
   "metadata": {},
   "outputs": [],
   "source": [
    "# Remove duplicate Serial numbers. Duplicates are caused by repairs and Reword\n",
    "dfm = dfm.drop_duplicates(subset=['IPC_Serial_No'], keep='first')"
   ]
  },
  {
   "cell_type": "code",
   "execution_count": null,
   "metadata": {},
   "outputs": [],
   "source": [
    "dfm_clean = dfm"
   ]
  },
  {
   "attachments": {},
   "cell_type": "markdown",
   "metadata": {},
   "source": [
    "## Save the clean data as a CSV file"
   ]
  },
  {
   "cell_type": "code",
   "execution_count": null,
   "metadata": {},
   "outputs": [],
   "source": [
    "# Export as CSV file\n",
    "file_one = os.path.join('.','Resources', 'Mfg_Data_Clean.csv')\n",
    "dfm_clean.to_csv(file_one, index=False, header=True)                    # Writes out MyFileName.cvs into the subdirectory \"Output\""
   ]
  },
  {
   "cell_type": "code",
   "execution_count": null,
   "metadata": {},
   "outputs": [],
   "source": []
  }
 ],
 "metadata": {
  "kernelspec": {
   "display_name": "base",
   "language": "python",
   "name": "python3"
  },
  "language_info": {
   "codemirror_mode": {
    "name": "ipython",
    "version": 3
   },
   "file_extension": ".py",
   "mimetype": "text/x-python",
   "name": "python",
   "nbconvert_exporter": "python",
   "pygments_lexer": "ipython3",
   "version": "3.9.13"
  },
  "orig_nbformat": 4,
  "vscode": {
   "interpreter": {
    "hash": "e7f336f9bec1e74624fa1ea8a759f275624ff514e02e1aa8e3e0a6d78d32a22a"
   }
  }
 },
 "nbformat": 4,
 "nbformat_minor": 2
}
