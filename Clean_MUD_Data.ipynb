{
 "cells": [
  {
   "attachments": {},
   "cell_type": "markdown",
   "metadata": {},
   "source": [
    "# Jeff Pinegar\n",
    "Project 2: ETL \n",
    "Due Dec. 23, 2022\n",
    "\n",
    "### Extract and Transform MUDData Sales Data\n",
    "---"
   ]
  },
  {
   "cell_type": "code",
   "execution_count": 1,
   "metadata": {},
   "outputs": [],
   "source": [
    "# Import needed libraries\n",
    "import pandas as pd     # if you get an error message module not found you need to add this to your environment.\n",
    "import os               # this tells your project about the OS of your machine.  This will let you create machine independent notebooks\n",
    "import numpy as np      # loads in the math tools\n",
    "from datetime import datetime"
   ]
  },
  {
   "attachments": {},
   "cell_type": "markdown",
   "metadata": {},
   "source": [
    "---\n",
    "### Extract"
   ]
  },
  {
   "cell_type": "code",
   "execution_count": 2,
   "metadata": {},
   "outputs": [
    {
     "data": {
      "text/html": [
       "<div>\n",
       "<style scoped>\n",
       "    .dataframe tbody tr th:only-of-type {\n",
       "        vertical-align: middle;\n",
       "    }\n",
       "\n",
       "    .dataframe tbody tr th {\n",
       "        vertical-align: top;\n",
       "    }\n",
       "\n",
       "    .dataframe thead th {\n",
       "        text-align: right;\n",
       "    }\n",
       "</style>\n",
       "<table border=\"1\" class=\"dataframe\">\n",
       "  <thead>\n",
       "    <tr style=\"text-align: right;\">\n",
       "      <th></th>\n",
       "      <th>SN</th>\n",
       "      <th>article</th>\n",
       "      <th>orderkey</th>\n",
       "      <th>nic</th>\n",
       "      <th>superio</th>\n",
       "      <th>MAC1</th>\n",
       "      <th>MAC2</th>\n",
       "      <th>UUID</th>\n",
       "      <th>disk</th>\n",
       "      <th>CMAT</th>\n",
       "      <th>...</th>\n",
       "      <th>CMAT_PCI</th>\n",
       "      <th>CMAT_PCIslot1</th>\n",
       "      <th>CMAT_PCIslot2</th>\n",
       "      <th>CMAT_SW</th>\n",
       "      <th>CMAT_NVRAM</th>\n",
       "      <th>CMAT_ExtFun</th>\n",
       "      <th>CMAT_PS</th>\n",
       "      <th>CMAT_miniPCI</th>\n",
       "      <th>location</th>\n",
       "      <th>date</th>\n",
       "    </tr>\n",
       "  </thead>\n",
       "  <tbody>\n",
       "    <tr>\n",
       "      <th>0</th>\n",
       "      <td>1234567879</td>\n",
       "      <td>1016240</td>\n",
       "      <td>1016240/A22/I46/R30/M72/OS71/S00/EF07/EF00</td>\n",
       "      <td>I210</td>\n",
       "      <td>UNKNOWN</td>\n",
       "      <td>A8741D4BAA21</td>\n",
       "      <td>A8741D4BAA22</td>\n",
       "      <td>9adca857-b628-47d7-8c75-72f10cdbf7c1</td>\n",
       "      <td>WARIS TS46EMM 32G  Serial# D373080042</td>\n",
       "      <td>1016240</td>\n",
       "      <td>...</td>\n",
       "      <td>NaN</td>\n",
       "      <td>NaN</td>\n",
       "      <td>NaN</td>\n",
       "      <td>S00</td>\n",
       "      <td>NaN</td>\n",
       "      <td>EF00</td>\n",
       "      <td>NaN</td>\n",
       "      <td>NaN</td>\n",
       "      <td>Taiwan2</td>\n",
       "      <td>12/15/2022 14:56</td>\n",
       "    </tr>\n",
       "    <tr>\n",
       "      <th>1</th>\n",
       "      <td>2036471071</td>\n",
       "      <td>1105780</td>\n",
       "      <td>1105780/D30/A20/I47/R26/M86/OS71/S00/EF00/EF00</td>\n",
       "      <td>I210</td>\n",
       "      <td>UNKNOWN</td>\n",
       "      <td>A8741D8F53C9</td>\n",
       "      <td>A8741D8F53C8</td>\n",
       "      <td>0335aca4-dcd4-448b-9795-e7d0c5da6906</td>\n",
       "      <td>NaN</td>\n",
       "      <td>1105780</td>\n",
       "      <td>...</td>\n",
       "      <td>NaN</td>\n",
       "      <td>NaN</td>\n",
       "      <td>NaN</td>\n",
       "      <td>S00</td>\n",
       "      <td>NaN</td>\n",
       "      <td>EF00</td>\n",
       "      <td>NaN</td>\n",
       "      <td>NaN</td>\n",
       "      <td>Bad Pyrmont</td>\n",
       "      <td>12/15/2022 9:45</td>\n",
       "    </tr>\n",
       "  </tbody>\n",
       "</table>\n",
       "<p>2 rows × 29 columns</p>\n",
       "</div>"
      ],
      "text/plain": [
       "           SN  article                                        orderkey   nic  \\\n",
       "0  1234567879  1016240      1016240/A22/I46/R30/M72/OS71/S00/EF07/EF00  I210   \n",
       "1  2036471071  1105780  1105780/D30/A20/I47/R26/M86/OS71/S00/EF00/EF00  I210   \n",
       "\n",
       "   superio          MAC1          MAC2                                  UUID  \\\n",
       "0  UNKNOWN  A8741D4BAA21  A8741D4BAA22  9adca857-b628-47d7-8c75-72f10cdbf7c1   \n",
       "1  UNKNOWN  A8741D8F53C9  A8741D8F53C8  0335aca4-dcd4-448b-9795-e7d0c5da6906   \n",
       "\n",
       "                                    disk     CMAT  ... CMAT_PCI CMAT_PCIslot1  \\\n",
       "0  WARIS TS46EMM 32G  Serial# D373080042  1016240  ...      NaN           NaN   \n",
       "1                                    NaN  1105780  ...      NaN           NaN   \n",
       "\n",
       "  CMAT_PCIslot2 CMAT_SW CMAT_NVRAM CMAT_ExtFun CMAT_PS CMAT_miniPCI  \\\n",
       "0           NaN     S00        NaN        EF00     NaN          NaN   \n",
       "1           NaN     S00        NaN        EF00     NaN          NaN   \n",
       "\n",
       "      location              date  \n",
       "0      Taiwan2  12/15/2022 14:56  \n",
       "1  Bad Pyrmont   12/15/2022 9:45  \n",
       "\n",
       "[2 rows x 29 columns]"
      ]
     },
     "execution_count": 2,
     "metadata": {},
     "output_type": "execute_result"
    }
   ],
   "source": [
    "# Import data file\n",
    "# My Jupyter notebook is in the current directory \" . \"\n",
    "# There is a sub directory \"Resources\" and the file \"IPC shipped from Germany by serial number 2022 (until 5.12.2022).csv\" is located there.\n",
    "sales_data = os.path.join('.','Resources', '133156280355595299.csv')            \n",
    "\n",
    "Import_data_type = {'SN' : 'str'  ,  'date' : 'str'  ,  'orderkey' : 'str'  ,  'CMAT' : 'str'  ,  'CMAT_Disp' : 'str'  \n",
    "                  ,  'CMAT_Mount' : 'str'  ,  'CMAT_CPU' : 'str'  ,  'CMAT_OS' : 'str'  ,  'CMAT_SW' : 'str'  ,  'CMAT_RAM' : 'str'  \n",
    "                  ,  'CMAT_NVRAM' : 'str'  ,  'CMAT_Storage1' : 'str'  ,  'CMAT_Storage2' : 'str'  ,  'CMAT_RAID' : 'str'  \n",
    "                  ,  'CMAT_DVD' : 'str'  ,  'CMAT_PCI' : 'str'  ,  'CMAT_PCIslot1' : 'str'  ,  'CMAT_PCIslot2' : 'str'  \n",
    "                  ,  'CMAT_ExtFun' : 'str'  ,  'CMAT_miniPCI' : 'str'  ,  'CMAT_PS' : 'str'  ,  'article' : 'str'  ,  'nic' : 'str'  \n",
    "                  ,  'superio' : 'str'  ,  'MAC1' : 'str'  ,  'MAC2' : 'str'  ,  'UUID' : 'str'  ,  'disk' : 'str'  ,  'location' : 'str' } \n",
    "\n",
    "# Opens the CVS file and read it in as a panda dataframe then print the head.\n",
    "dfm_raw = pd.read_csv(sales_data, encoding=\"utf-8\", dtype=Import_data_type)                    \n",
    "dfm_raw.head(2)"
   ]
  },
  {
   "attachments": {},
   "cell_type": "markdown",
   "metadata": {},
   "source": [
    "---\n",
    "### Transform"
   ]
  },
  {
   "cell_type": "code",
   "execution_count": 3,
   "metadata": {},
   "outputs": [
    {
     "data": {
      "text/plain": [
       "(103099, 29)"
      ]
     },
     "execution_count": 3,
     "metadata": {},
     "output_type": "execute_result"
    }
   ],
   "source": [
    "# Confirm the import worked as expected.\n",
    "dfm_raw.shape"
   ]
  },
  {
   "cell_type": "code",
   "execution_count": 4,
   "metadata": {},
   "outputs": [],
   "source": [
    "# Create a working df\n",
    "dfm = dfm_raw"
   ]
  },
  {
   "cell_type": "code",
   "execution_count": 5,
   "metadata": {},
   "outputs": [],
   "source": [
    "# reduce the data frame to the needed columns and update the column names\n",
    "dfm = dfm[[ 'SN' , 'date' , 'orderkey' , 'CMAT' , 'CMAT_Disp' \n",
    "            , 'CMAT_Mount' , 'CMAT_CPU' , 'CMAT_OS' , 'CMAT_SW' \n",
    "            , 'CMAT_RAM' , 'CMAT_NVRAM' , 'CMAT_Storage1' , 'CMAT_Storage2' \n",
    "            , 'CMAT_RAID' , 'CMAT_DVD' , 'CMAT_PCI' , 'CMAT_PCIslot1' \n",
    "            , 'CMAT_PCIslot2' , 'CMAT_ExtFun' , 'CMAT_miniPCI' , 'CMAT_PS']]\n",
    "\n",
    "# Rename the columns to be more helpful\n",
    "dfm = dfm.rename(columns={ 'SN' : 'IPC_Serial_No'  ,  'date' : 'Mfg_Date'  ,  'orderkey' : 'Order_Key'  \n",
    "                        ,  'CMAT' : 'Platform'  ,  'CMAT_Disp' : 'Display'  ,  'CMAT_Mount' : 'Mounting'  \n",
    "                        ,  'CMAT_CPU' : 'CPU'  ,  'CMAT_OS' : 'OS'  ,  'CMAT_SW' : 'SW'  ,  'CMAT_RAM' : 'RAM'  \n",
    "                        ,  'CMAT_NVRAM' : 'NVRAM'  ,  'CMAT_Storage1' : 'Mass_Store_1'  \n",
    "                        ,  'CMAT_Storage2' : 'Mass_Store_2'  ,  'CMAT_RAID' : 'RAID'  ,  'CMAT_DVD' : 'DVD'  \n",
    "                        ,  'CMAT_PCI' : 'PCI'  ,  'CMAT_PCIslot1' : 'PCI_Slot_1'  ,  'CMAT_PCIslot2' : 'PCI_Slot_2'  \n",
    "                        ,  'CMAT_ExtFun' : 'Ext_Func'  ,  'CMAT_miniPCI' : 'MiniPCI'  ,  'CMAT_PS' : 'PS' })"
   ]
  },
  {
   "cell_type": "code",
   "execution_count": 6,
   "metadata": {},
   "outputs": [
    {
     "data": {
      "text/html": [
       "<div>\n",
       "<style scoped>\n",
       "    .dataframe tbody tr th:only-of-type {\n",
       "        vertical-align: middle;\n",
       "    }\n",
       "\n",
       "    .dataframe tbody tr th {\n",
       "        vertical-align: top;\n",
       "    }\n",
       "\n",
       "    .dataframe thead th {\n",
       "        text-align: right;\n",
       "    }\n",
       "</style>\n",
       "<table border=\"1\" class=\"dataframe\">\n",
       "  <thead>\n",
       "    <tr style=\"text-align: right;\">\n",
       "      <th></th>\n",
       "      <th>IPC_Serial_No</th>\n",
       "      <th>Mfg_Date</th>\n",
       "      <th>Order_Key</th>\n",
       "      <th>Platform</th>\n",
       "      <th>Display</th>\n",
       "      <th>Mounting</th>\n",
       "      <th>CPU</th>\n",
       "      <th>OS</th>\n",
       "      <th>SW</th>\n",
       "      <th>RAM</th>\n",
       "      <th>...</th>\n",
       "      <th>Mass_Store_1</th>\n",
       "      <th>Mass_Store_2</th>\n",
       "      <th>RAID</th>\n",
       "      <th>DVD</th>\n",
       "      <th>PCI</th>\n",
       "      <th>PCI_Slot_1</th>\n",
       "      <th>PCI_Slot_2</th>\n",
       "      <th>Ext_Func</th>\n",
       "      <th>MiniPCI</th>\n",
       "      <th>PS</th>\n",
       "    </tr>\n",
       "  </thead>\n",
       "  <tbody>\n",
       "    <tr>\n",
       "      <th>0</th>\n",
       "      <td>1234567879</td>\n",
       "      <td>12/15/2022 14:56</td>\n",
       "      <td>1016240/A22/I46/R30/M72/OS71/S00/EF07/EF00</td>\n",
       "      <td>1016240</td>\n",
       "      <td>NaN</td>\n",
       "      <td>A22</td>\n",
       "      <td>I46</td>\n",
       "      <td>OS71</td>\n",
       "      <td>S00</td>\n",
       "      <td>R30</td>\n",
       "      <td>...</td>\n",
       "      <td>M72</td>\n",
       "      <td>NaN</td>\n",
       "      <td>NaN</td>\n",
       "      <td>NaN</td>\n",
       "      <td>NaN</td>\n",
       "      <td>NaN</td>\n",
       "      <td>NaN</td>\n",
       "      <td>EF00</td>\n",
       "      <td>NaN</td>\n",
       "      <td>NaN</td>\n",
       "    </tr>\n",
       "    <tr>\n",
       "      <th>1</th>\n",
       "      <td>2036471071</td>\n",
       "      <td>12/15/2022 9:45</td>\n",
       "      <td>1105780/D30/A20/I47/R26/M86/OS71/S00/EF00/EF00</td>\n",
       "      <td>1105780</td>\n",
       "      <td>D30</td>\n",
       "      <td>A20</td>\n",
       "      <td>I47</td>\n",
       "      <td>OS71</td>\n",
       "      <td>S00</td>\n",
       "      <td>R26</td>\n",
       "      <td>...</td>\n",
       "      <td>M86</td>\n",
       "      <td>NaN</td>\n",
       "      <td>NaN</td>\n",
       "      <td>NaN</td>\n",
       "      <td>NaN</td>\n",
       "      <td>NaN</td>\n",
       "      <td>NaN</td>\n",
       "      <td>EF00</td>\n",
       "      <td>NaN</td>\n",
       "      <td>NaN</td>\n",
       "    </tr>\n",
       "  </tbody>\n",
       "</table>\n",
       "<p>2 rows × 21 columns</p>\n",
       "</div>"
      ],
      "text/plain": [
       "  IPC_Serial_No          Mfg_Date  \\\n",
       "0    1234567879  12/15/2022 14:56   \n",
       "1    2036471071   12/15/2022 9:45   \n",
       "\n",
       "                                        Order_Key Platform Display Mounting  \\\n",
       "0      1016240/A22/I46/R30/M72/OS71/S00/EF07/EF00  1016240     NaN      A22   \n",
       "1  1105780/D30/A20/I47/R26/M86/OS71/S00/EF00/EF00  1105780     D30      A20   \n",
       "\n",
       "   CPU    OS   SW  RAM  ... Mass_Store_1 Mass_Store_2 RAID  DVD  PCI  \\\n",
       "0  I46  OS71  S00  R30  ...          M72          NaN  NaN  NaN  NaN   \n",
       "1  I47  OS71  S00  R26  ...          M86          NaN  NaN  NaN  NaN   \n",
       "\n",
       "  PCI_Slot_1 PCI_Slot_2 Ext_Func MiniPCI   PS  \n",
       "0        NaN        NaN     EF00     NaN  NaN  \n",
       "1        NaN        NaN     EF00     NaN  NaN  \n",
       "\n",
       "[2 rows x 21 columns]"
      ]
     },
     "execution_count": 6,
     "metadata": {},
     "output_type": "execute_result"
    }
   ],
   "source": [
    "# Remove any duplicate orders\n",
    "dfm = dfm.drop_duplicates(keep='first')\n",
    "\n",
    "dfm.head(2)"
   ]
  },
  {
   "attachments": {},
   "cell_type": "markdown",
   "metadata": {},
   "source": [
    "#### Convert Data types"
   ]
  },
  {
   "cell_type": "code",
   "execution_count": 7,
   "metadata": {},
   "outputs": [],
   "source": [
    "# Convert mfg date to datetime\n",
    "\n",
    "# Define a funtion to change the format\n",
    "def convertdate(date_in_dmyyyy_format):\n",
    "    date_as_string= str(date_in_dmyyyy_format)\n",
    "    newformat = datetime.strptime(date_as_string, \"%m/%d/%Y %H:%M\").strftime(\"%Y-%m-%d\")\n",
    "    return str(newformat)\n",
    "\n",
    "#reformat the sell_date string to yyyy-mm-dd.\n",
    "dfm['Mfg_Date']=dfm['Mfg_Date'].apply(convertdate) \n",
    "\n",
    "# Convert the date string to type datetime\n",
    "dfm['Mfg_Date']=pd.to_datetime(dfm['Mfg_Date'])\n"
   ]
  },
  {
   "cell_type": "code",
   "execution_count": 8,
   "metadata": {},
   "outputs": [
    {
     "data": {
      "text/plain": [
       "pandas._libs.tslibs.timestamps.Timestamp"
      ]
     },
     "execution_count": 8,
     "metadata": {},
     "output_type": "execute_result"
    }
   ],
   "source": [
    "type(dfm['Mfg_Date'][3])"
   ]
  },
  {
   "cell_type": "code",
   "execution_count": 9,
   "metadata": {},
   "outputs": [],
   "source": [
    "# Remove items mfg before 1/1/2021\n",
    "dfm = dfm.loc[dfm['Mfg_Date']>='2021-01-01']"
   ]
  },
  {
   "cell_type": "code",
   "execution_count": 10,
   "metadata": {},
   "outputs": [],
   "source": [
    "# Remove duplicate Serial numbers. Duplicates are caused by repairs and Reword\n",
    "dfm = dfm.drop_duplicates(subset=['IPC_Serial_No'], keep='first')"
   ]
  },
  {
   "cell_type": "code",
   "execution_count": 11,
   "metadata": {},
   "outputs": [],
   "source": [
    "# save the clean data frame\n",
    "dfm_clean = dfm"
   ]
  },
  {
   "attachments": {},
   "cell_type": "markdown",
   "metadata": {},
   "source": [
    "#### Save the clean data as a CSV file"
   ]
  },
  {
   "cell_type": "code",
   "execution_count": 12,
   "metadata": {},
   "outputs": [],
   "source": [
    "# Export as CSV file\n",
    "file_one = os.path.join('.','Resources', 'Mfg_Data_Clean.csv')\n",
    "dfm_clean.to_csv(file_one, index=False, header=True)                    # Writes out MyFileName.cvs into the subdirectory \"Output\""
   ]
  },
  {
   "attachments": {},
   "cell_type": "markdown",
   "metadata": {},
   "source": [
    "---\n",
    "## To load run:  Load_Postgres_database.ipynb\n",
    "---"
   ]
  }
 ],
 "metadata": {
  "kernelspec": {
   "display_name": "base",
   "language": "python",
   "name": "python3"
  },
  "language_info": {
   "codemirror_mode": {
    "name": "ipython",
    "version": 3
   },
   "file_extension": ".py",
   "mimetype": "text/x-python",
   "name": "python",
   "nbconvert_exporter": "python",
   "pygments_lexer": "ipython3",
   "version": "3.9.13 | packaged by conda-forge | (main, May 27 2022, 16:51:29) [MSC v.1929 64 bit (AMD64)]"
  },
  "orig_nbformat": 4,
  "vscode": {
   "interpreter": {
    "hash": "e7f336f9bec1e74624fa1ea8a759f275624ff514e02e1aa8e3e0a6d78d32a22a"
   }
  }
 },
 "nbformat": 4,
 "nbformat_minor": 2
}
