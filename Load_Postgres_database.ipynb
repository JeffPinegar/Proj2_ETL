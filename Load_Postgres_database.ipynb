{
 "cells": [
  {
   "attachments": {},
   "cell_type": "markdown",
   "metadata": {},
   "source": [
    "# Jeff Pinegar\n",
    "Project 2: ETL \n",
    "Due Dec. 23, 2022\n",
    "\n",
    "### Load date in to Postgres database\n",
    "---"
   ]
  },
  {
   "cell_type": "code",
   "execution_count": 7,
   "metadata": {},
   "outputs": [],
   "source": [
    "# Import needed libraries\n",
    "import pandas as pd\n",
    "from sqlalchemy import create_engine\n",
    "import psycopg2\n",
    "\n",
    "import os"
   ]
  },
  {
   "attachments": {},
   "cell_type": "markdown",
   "metadata": {},
   "source": [
    "---\n",
    "### Read in CSV files"
   ]
  },
  {
   "cell_type": "code",
   "execution_count": 8,
   "metadata": {},
   "outputs": [],
   "source": [
    "# Set the paths to the data file\n",
    "Sales_Data = os.path.join('.','Resources', 'Sales_Data_Clean.csv')\n",
    "MUDD = os.path.join('.','Resources', 'Mfg_Data_Clean.csv')\n",
    "CMATCodes = os.path.join('.','Resources', 'CMAT Decoder.csv')\n",
    "\n",
    "# Read the data in data frames\n",
    "dfs_clean = pd.read_csv(Sales_Data, encoding=\"utf-8\")       # Sales data\n",
    "dfm_clean = pd.read_csv(MUDD, encoding=\"utf-8\")             # Manufacturing data\n",
    "dfc_clean = pd.read_csv(CMATCodes, encoding=\"utf-8\")        # CMAT code to english"
   ]
  },
  {
   "cell_type": "code",
   "execution_count": 9,
   "metadata": {},
   "outputs": [
    {
     "data": {
      "text/html": [
       "<div>\n",
       "<style scoped>\n",
       "    .dataframe tbody tr th:only-of-type {\n",
       "        vertical-align: middle;\n",
       "    }\n",
       "\n",
       "    .dataframe tbody tr th {\n",
       "        vertical-align: top;\n",
       "    }\n",
       "\n",
       "    .dataframe thead th {\n",
       "        text-align: right;\n",
       "    }\n",
       "</style>\n",
       "<table border=\"1\" class=\"dataframe\">\n",
       "  <thead>\n",
       "    <tr style=\"text-align: right;\">\n",
       "      <th></th>\n",
       "      <th>Unnamed: 0</th>\n",
       "      <th>IPC_Serial_No</th>\n",
       "      <th>Sell_Date</th>\n",
       "      <th>Country</th>\n",
       "      <th>Sale_Price_EUR</th>\n",
       "    </tr>\n",
       "  </thead>\n",
       "  <tbody>\n",
       "    <tr>\n",
       "      <th>0</th>\n",
       "      <td>0</td>\n",
       "      <td>2125MW0241</td>\n",
       "      <td>2022-01-03</td>\n",
       "      <td>IT</td>\n",
       "      <td>437.14</td>\n",
       "    </tr>\n",
       "    <tr>\n",
       "      <th>1</th>\n",
       "      <td>1</td>\n",
       "      <td>2125MW0278</td>\n",
       "      <td>2022-01-03</td>\n",
       "      <td>IT</td>\n",
       "      <td>437.14</td>\n",
       "    </tr>\n",
       "  </tbody>\n",
       "</table>\n",
       "</div>"
      ],
      "text/plain": [
       "   Unnamed: 0 IPC_Serial_No   Sell_Date Country  Sale_Price_EUR\n",
       "0           0    2125MW0241  2022-01-03      IT          437.14\n",
       "1           1    2125MW0278  2022-01-03      IT          437.14"
      ]
     },
     "execution_count": 9,
     "metadata": {},
     "output_type": "execute_result"
    }
   ],
   "source": [
    "dfs_clean.head(2)"
   ]
  },
  {
   "attachments": {},
   "cell_type": "markdown",
   "metadata": {},
   "source": [
    "---\n",
    "### Open connection to the postgres database"
   ]
  },
  {
   "cell_type": "code",
   "execution_count": 10,
   "metadata": {},
   "outputs": [],
   "source": [
    "# Set the connection to the Postgres database created for this project\n",
    "protocol = 'postgresql'\n",
    "username = 'postgres'\n",
    "password = 'jsp'\n",
    "host = 'localhost'\n",
    "port = 5432\n",
    "database_name = 'etl_db'\n",
    "rds_connection_string = f'{protocol}://{username}:{password}@{host}:{port}/{database_name}'\n",
    "engine = create_engine(rds_connection_string)"
   ]
  },
  {
   "cell_type": "code",
   "execution_count": 11,
   "metadata": {},
   "outputs": [
    {
     "name": "stderr",
     "output_type": "stream",
     "text": [
      "C:\\Users\\jspinega\\AppData\\Local\\Temp\\ipykernel_17048\\2070310554.py:2: SADeprecationWarning: The Engine.table_names() method is deprecated and will be removed in a future release.  Please refer to Inspector.get_table_names(). (deprecated since: 1.4)\n",
      "  engine.table_names()\n"
     ]
    },
    {
     "data": {
      "text/plain": [
       "['cmatcodes', 'muddata', 'salesinfo']"
      ]
     },
     "execution_count": 11,
     "metadata": {},
     "output_type": "execute_result"
    }
   ],
   "source": [
    "# Verify that the tables are there to be loaded.\n",
    "engine.table_names()"
   ]
  },
  {
   "cell_type": "code",
   "execution_count": 12,
   "metadata": {},
   "outputs": [
    {
     "data": {
      "text/plain": [
       "471"
      ]
     },
     "execution_count": 12,
     "metadata": {},
     "output_type": "execute_result"
    }
   ],
   "source": [
    "# Load the CMAT codes in the cmatcodes table\n",
    "dfc_clean.to_sql(name='cmatcodes'                     # identify the target table\n",
    "                  , con=engine                        # set the conection\n",
    "                  , if_exists='replace'               # replace existing date in the table\n",
    "                  , index=False)                      # Don't include the index"
   ]
  },
  {
   "cell_type": "code",
   "execution_count": 13,
   "metadata": {},
   "outputs": [
    {
     "data": {
      "text/plain": [
       "518"
      ]
     },
     "execution_count": 13,
     "metadata": {},
     "output_type": "execute_result"
    }
   ],
   "source": [
    "# Load the manufacturing data into the mudddata table.\n",
    "dfm_clean.to_sql(name='muddata'                       # identify the target table\n",
    "                  , con=engine                        # set the connection\n",
    "                  , if_exists='replace'               # replace existing data in the table\n",
    "                  , index=False)                      # Don't include the index"
   ]
  },
  {
   "cell_type": "code",
   "execution_count": 14,
   "metadata": {},
   "outputs": [
    {
     "data": {
      "text/plain": [
       "287"
      ]
     },
     "execution_count": 14,
     "metadata": {},
     "output_type": "execute_result"
    }
   ],
   "source": [
    "dfs_clean.to_sql(name='salesinfo'                     # identify the target table\n",
    "                  , con=engine                        # set the connection\n",
    "                  , if_exists='replace'               # replace the existing data in the table\n",
    "                  , index=True                        # include the index this will become the primary key for this table\n",
    "                  , index_label=\"ID\")                 # rename the index (primary key) to ID"
   ]
  },
  {
   "cell_type": "code",
   "execution_count": null,
   "metadata": {},
   "outputs": [],
   "source": []
  }
 ],
 "metadata": {
  "kernelspec": {
   "display_name": "base",
   "language": "python",
   "name": "python3"
  },
  "language_info": {
   "codemirror_mode": {
    "name": "ipython",
    "version": 3
   },
   "file_extension": ".py",
   "mimetype": "text/x-python",
   "name": "python",
   "nbconvert_exporter": "python",
   "pygments_lexer": "ipython3",
   "version": "3.9.13"
  },
  "orig_nbformat": 4,
  "vscode": {
   "interpreter": {
    "hash": "e7f336f9bec1e74624fa1ea8a759f275624ff514e02e1aa8e3e0a6d78d32a22a"
   }
  }
 },
 "nbformat": 4,
 "nbformat_minor": 2
}
